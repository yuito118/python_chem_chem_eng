{
 "cells": [
  {
   "cell_type": "code",
   "execution_count": 1,
   "id": "37e3c01f-3132-4803-b682-2feb7551f107",
   "metadata": {},
   "outputs": [],
   "source": [
    "import pandas as pd"
   ]
  },
  {
   "cell_type": "code",
   "execution_count": 2,
   "id": "c8605d50-c508-4a9a-b765-26d67b188c6b",
   "metadata": {},
   "outputs": [],
   "source": [
    "dataset = pd.read_csv('iris_with_species.csv', index_col=0, header=0) # あやめのデータセットの読み込み"
   ]
  },
  {
   "cell_type": "code",
   "execution_count": 3,
   "id": "3066628b-4dfc-4fa3-9a16-bc90f988231c",
   "metadata": {},
   "outputs": [],
   "source": [
    "x = dataset.iloc[:,1:]"
   ]
  },
  {
   "cell_type": "code",
   "execution_count": 4,
   "id": "ebafe581-71f3-453a-ba4f-861720186700",
   "metadata": {},
   "outputs": [],
   "source": [
    "iris_types = dataset.iloc[:,0]"
   ]
  },
  {
   "cell_type": "code",
   "execution_count": 5,
   "id": "9c17d92b-6929-405c-ac91-d1455b834bda",
   "metadata": {},
   "outputs": [
    {
     "data": {
      "text/plain": [
       "sample1         setosa\n",
       "sample2         setosa\n",
       "sample3         setosa\n",
       "sample4         setosa\n",
       "sample5         setosa\n",
       "               ...    \n",
       "sample146    virginica\n",
       "sample147    virginica\n",
       "sample148    virginica\n",
       "sample149    virginica\n",
       "sample150    virginica\n",
       "Name: Species, Length: 150, dtype: object"
      ]
     },
     "execution_count": 5,
     "metadata": {},
     "output_type": "execute_result"
    }
   ],
   "source": [
    "iris_types"
   ]
  },
  {
   "cell_type": "code",
   "execution_count": 6,
   "id": "accc9b69-1658-430b-98e3-281260555c29",
   "metadata": {},
   "outputs": [],
   "source": [
    "selected_sample_numbers = [0, 1, 2, 3, 4, 59, 60, 64, 79, 81, 102, 105, 107, 109, 117]\n",
    "x = x.iloc[selected_sample_numbers]\n",
    "iris_types = iris_types.iloc[selected_sample_numbers]"
   ]
  },
  {
   "cell_type": "code",
   "execution_count": 8,
   "id": "2f1a8933-b4c6-4ef7-a170-6307e56d6a6e",
   "metadata": {},
   "outputs": [],
   "source": [
    "autoscaled_x = (x -x.mean()) / x.std()"
   ]
  },
  {
   "cell_type": "code",
   "execution_count": 9,
   "id": "e116ab96-d3ac-4722-a84e-73fdf17345bb",
   "metadata": {},
   "outputs": [],
   "source": [
    "from scipy.cluster.hierarchy import linkage, dendrogram, fcluster"
   ]
  },
  {
   "cell_type": "code",
   "execution_count": 10,
   "id": "2d0f149e-af31-4533-9439-f3529c0964c2",
   "metadata": {},
   "outputs": [],
   "source": [
    "clustering_results = linkage(autoscaled_x,metric='euclidean',method='ward')"
   ]
  },
  {
   "cell_type": "code",
   "execution_count": 11,
   "id": "c6e0d48f-823a-482d-b125-ed424f0f0f9c",
   "metadata": {},
   "outputs": [
    {
     "data": {
      "text/plain": [
       "array([[ 0.        ,  4.        ,  0.22415677,  2.        ],\n",
       "       [ 2.        ,  3.        ,  0.24369657,  2.        ],\n",
       "       [ 1.        , 16.        ,  0.43744005,  3.        ],\n",
       "       [ 8.        ,  9.        ,  0.45839588,  2.        ],\n",
       "       [10.        , 12.        ,  0.48787408,  2.        ],\n",
       "       [11.        , 19.        ,  0.54372701,  3.        ],\n",
       "       [ 5.        ,  7.        ,  0.57201419,  2.        ],\n",
       "       [13.        , 14.        ,  0.75600557,  2.        ],\n",
       "       [18.        , 21.        ,  1.0899511 ,  4.        ],\n",
       "       [15.        , 17.        ,  1.50171199,  5.        ],\n",
       "       [ 6.        , 23.        ,  1.80763621,  5.        ],\n",
       "       [20.        , 22.        ,  2.44052789,  5.        ],\n",
       "       [24.        , 25.        ,  5.04549132, 10.        ],\n",
       "       [26.        , 27.        ,  8.48131124, 15.        ]])"
      ]
     },
     "execution_count": 11,
     "metadata": {},
     "output_type": "execute_result"
    }
   ],
   "source": [
    "clustering_results"
   ]
  },
  {
   "cell_type": "code",
   "execution_count": 13,
   "id": "145c1795-ad70-4ec5-9555-7295ed98dbf9",
   "metadata": {},
   "outputs": [],
   "source": [
    "import matplotlib.pyplot as plt"
   ]
  },
  {
   "cell_type": "code",
   "execution_count": 15,
   "id": "580e86e5-3aeb-42f7-b751-ccbb7fe2d0a4",
   "metadata": {},
   "outputs": [],
   "source": [
    "plt.rcParams['font.size'] = 18"
   ]
  },
  {
   "cell_type": "code",
   "execution_count": 18,
   "id": "d60a844a-fb84-44d7-9699-1fcf566a0b26",
   "metadata": {},
   "outputs": [
    {
     "data": {
      "text/plain": [
       "{'icoord': [[15.0, 15.0, 25.0, 25.0],\n",
       "  [5.0, 5.0, 20.0, 20.0],\n",
       "  [35.0, 35.0, 45.0, 45.0],\n",
       "  [12.5, 12.5, 40.0, 40.0],\n",
       "  [55.0, 55.0, 65.0, 65.0],\n",
       "  [85.0, 85.0, 95.0, 95.0],\n",
       "  [75.0, 75.0, 90.0, 90.0],\n",
       "  [60.0, 60.0, 82.5, 82.5],\n",
       "  [115.0, 115.0, 125.0, 125.0],\n",
       "  [135.0, 135.0, 145.0, 145.0],\n",
       "  [120.0, 120.0, 140.0, 140.0],\n",
       "  [105.0, 105.0, 130.0, 130.0],\n",
       "  [71.25, 71.25, 117.5, 117.5],\n",
       "  [26.25, 26.25, 94.375, 94.375]],\n",
       " 'dcoord': [[0.0, 0.4878740792633688, 0.4878740792633688, 0.0],\n",
       "  [0.0, 0.5437270124692299, 0.5437270124692299, 0.4878740792633688],\n",
       "  [0.0, 0.7560055654370165, 0.7560055654370165, 0.0],\n",
       "  [0.5437270124692299,\n",
       "   2.4405278876486625,\n",
       "   2.4405278876486625,\n",
       "   0.7560055654370165],\n",
       "  [0.0, 0.22415676556412553, 0.22415676556412553, 0.0],\n",
       "  [0.0, 0.2436965698713625, 0.2436965698713625, 0.0],\n",
       "  [0.0, 0.4374400464117441, 0.4374400464117441, 0.2436965698713625],\n",
       "  [0.22415676556412553,\n",
       "   1.5017119873211944,\n",
       "   1.5017119873211944,\n",
       "   0.4374400464117441],\n",
       "  [0.0, 0.45839588219308774, 0.45839588219308774, 0.0],\n",
       "  [0.0, 0.572014185823656, 0.572014185823656, 0.0],\n",
       "  [0.45839588219308774,\n",
       "   1.089951103944779,\n",
       "   1.089951103944779,\n",
       "   0.572014185823656],\n",
       "  [0.0, 1.8076362098638494, 1.8076362098638494, 1.089951103944779],\n",
       "  [1.5017119873211944,\n",
       "   5.045491322430477,\n",
       "   5.045491322430477,\n",
       "   1.8076362098638494],\n",
       "  [2.4405278876486625, 8.48131123695091, 8.48131123695091, 5.045491322430477]],\n",
       " 'ivl': ['sample106',\n",
       "  'sample103',\n",
       "  'sample108',\n",
       "  'sample110',\n",
       "  'sample118',\n",
       "  'sample1',\n",
       "  'sample5',\n",
       "  'sample2',\n",
       "  'sample3',\n",
       "  'sample4',\n",
       "  'sample61',\n",
       "  'sample80',\n",
       "  'sample82',\n",
       "  'sample60',\n",
       "  'sample65'],\n",
       " 'leaves': [11, 10, 12, 13, 14, 0, 4, 1, 2, 3, 6, 8, 9, 5, 7],\n",
       " 'color_list': ['C0',\n",
       "  'C0',\n",
       "  'C0',\n",
       "  'C0',\n",
       "  'C0',\n",
       "  'C0',\n",
       "  'C0',\n",
       "  'C0',\n",
       "  'C0',\n",
       "  'C0',\n",
       "  'C0',\n",
       "  'C0',\n",
       "  'C0',\n",
       "  'C0'],\n",
       " 'leaves_color_list': ['C0',\n",
       "  'C0',\n",
       "  'C0',\n",
       "  'C0',\n",
       "  'C0',\n",
       "  'C0',\n",
       "  'C0',\n",
       "  'C0',\n",
       "  'C0',\n",
       "  'C0',\n",
       "  'C0',\n",
       "  'C0',\n",
       "  'C0',\n",
       "  'C0',\n",
       "  'C0']}"
      ]
     },
     "execution_count": 18,
     "metadata": {},
     "output_type": "execute_result"
    },
    {
     "data": {
      "image/png": "[encoded data removed]",
      "text/plain": [
       "<Figure size 432x288 with 1 Axes>"
      ]
     },
     "metadata": {
      "needs_background": "light"
     },
     "output_type": "display_data"
    }
   ],
   "source": [
    "dendrogram(clustering_results, labels=x.index,color_threshold=0,orientation='right')"
   ]
  },
  {
   "cell_type": "code",
   "execution_count": 17,
   "id": "ab249785-f492-4fc8-8f80-6de4df6ef420",
   "metadata": {},
   "outputs": [
    {
     "data": {
      "image/png": "[encoded data removed]",
      "text/plain": [
       "<Figure size 432x288 with 1 Axes>"
      ]
     },
     "metadata": {
      "needs_background": "light"
     },
     "output_type": "display_data"
    }
   ],
   "source": [
    "plt.rcParams['font.size'] = 18 # 横軸や縦軸の名前の文字などのフォントのサイズ\n",
    "dendrogram(clustering_results, labels=iris_types, color_threshold=0, orientation='right') # デンドログラムの作成。labels=iris_types であやめの種類を入れています\n",
    "plt.xlabel('distance') # 横軸の名前\n",
    "plt.show()"
   ]
  },
  {
   "cell_type": "code",
   "execution_count": 19,
   "id": "2624b9e5-2000-4404-be89-121f06614c3f",
   "metadata": {},
   "outputs": [
    {
     "data": {
      "text/plain": [
       "sample1          setosa\n",
       "sample2          setosa\n",
       "sample3          setosa\n",
       "sample4          setosa\n",
       "sample5          setosa\n",
       "sample60     versicolor\n",
       "sample61     versicolor\n",
       "sample65     versicolor\n",
       "sample80     versicolor\n",
       "sample82     versicolor\n",
       "sample103     virginica\n",
       "sample106     virginica\n",
       "sample108     virginica\n",
       "sample110     virginica\n",
       "sample118     virginica\n",
       "Name: Species, dtype: object"
      ]
     },
     "execution_count": 19,
     "metadata": {},
     "output_type": "execute_result"
    }
   ],
   "source": [
    "iris_types"
   ]
  },
  {
   "cell_type": "code",
   "execution_count": 20,
   "id": "b0c01be8-c91f-4bff-9764-c301ad6c6489",
   "metadata": {},
   "outputs": [],
   "source": [
    "from sklearn.decomposition import PCA"
   ]
  },
  {
   "cell_type": "code",
   "execution_count": 21,
   "id": "127536b7-c3a1-453b-b888-0822ec973a25",
   "metadata": {},
   "outputs": [],
   "source": [
    "pca = PCA()"
   ]
  },
  {
   "cell_type": "code",
   "execution_count": 22,
   "id": "5222d404-a53f-41aa-baa9-4c0032f9d6a5",
   "metadata": {},
   "outputs": [
    {
     "data": {
      "text/plain": [
       "PCA()"
      ]
     },
     "execution_count": 22,
     "metadata": {},
     "output_type": "execute_result"
    }
   ],
   "source": [
    "pca.fit(autoscaled_x)"
   ]
  },
  {
   "cell_type": "code",
   "execution_count": 24,
   "id": "8e3812f0-7fbc-438b-947b-6afa0f1d6e3d",
   "metadata": {},
   "outputs": [],
   "source": [
    "score = pd.DataFrame(pca.transform(autoscaled_x))"
   ]
  },
  {
   "cell_type": "code",
   "execution_count": 25,
   "id": "f167fe87-af17-41f5-8239-5b72db201348",
   "metadata": {},
   "outputs": [],
   "source": [
    "score.index = x.index"
   ]
  },
  {
   "cell_type": "code",
   "execution_count": 26,
   "id": "7a8746f2-8b21-4d4f-a93b-16de5f7927de",
   "metadata": {},
   "outputs": [],
   "source": [
    "score.columns = ['PC1','PC2','PC3','PC4']"
   ]
  },
  {
   "cell_type": "code",
   "execution_count": 28,
   "id": "d0d8bbf2-3bd6-4d04-aba2-9889621b3d9c",
   "metadata": {},
   "outputs": [
    {
     "data": {
      "text/html": [
       "<div>\n",
       "<style scoped>\n",
       "    .dataframe tbody tr th:only-of-type {\n",
       "        vertical-align: middle;\n",
       "    }\n",
       "\n",
       "    .dataframe tbody tr th {\n",
       "        vertical-align: top;\n",
       "    }\n",
       "\n",
       "    .dataframe thead th {\n",
       "        text-align: right;\n",
       "    }\n",
       "</style>\n",
       "<table border=\"1\" class=\"dataframe\">\n",
       "  <thead>\n",
       "    <tr style=\"text-align: right;\">\n",
       "      <th></th>\n",
       "      <th>PC1</th>\n",
       "      <th>PC2</th>\n",
       "      <th>PC3</th>\n",
       "      <th>PC4</th>\n",
       "    </tr>\n",
       "  </thead>\n",
       "  <tbody>\n",
       "    <tr>\n",
       "      <th>sample1</th>\n",
       "      <td>-1.579951</td>\n",
       "      <td>-1.243078</td>\n",
       "      <td>-0.137584</td>\n",
       "      <td>-0.036992</td>\n",
       "    </tr>\n",
       "    <tr>\n",
       "      <th>sample2</th>\n",
       "      <td>-1.805797</td>\n",
       "      <td>-0.222862</td>\n",
       "      <td>-0.173852</td>\n",
       "      <td>-0.092413</td>\n",
       "    </tr>\n",
       "    <tr>\n",
       "      <th>sample3</th>\n",
       "      <td>-1.883085</td>\n",
       "      <td>-0.616435</td>\n",
       "      <td>0.010442</td>\n",
       "      <td>-0.000584</td>\n",
       "    </tr>\n",
       "    <tr>\n",
       "      <th>sample4</th>\n",
       "      <td>-1.903255</td>\n",
       "      <td>-0.391414</td>\n",
       "      <td>0.033711</td>\n",
       "      <td>0.087764</td>\n",
       "    </tr>\n",
       "    <tr>\n",
       "      <th>sample5</th>\n",
       "      <td>-1.604839</td>\n",
       "      <td>-1.435830</td>\n",
       "      <td>-0.046761</td>\n",
       "      <td>0.028004</td>\n",
       "    </tr>\n",
       "    <tr>\n",
       "      <th>sample60</th>\n",
       "      <td>-0.226151</td>\n",
       "      <td>0.743972</td>\n",
       "      <td>0.507239</td>\n",
       "      <td>0.108769</td>\n",
       "    </tr>\n",
       "    <tr>\n",
       "      <th>sample61</th>\n",
       "      <td>-0.884744</td>\n",
       "      <td>2.071264</td>\n",
       "      <td>0.079389</td>\n",
       "      <td>0.033688</td>\n",
       "    </tr>\n",
       "    <tr>\n",
       "      <th>sample65</th>\n",
       "      <td>-0.126315</td>\n",
       "      <td>0.270299</td>\n",
       "      <td>0.253691</td>\n",
       "      <td>-0.060287</td>\n",
       "    </tr>\n",
       "    <tr>\n",
       "      <th>sample80</th>\n",
       "      <td>-0.383541</td>\n",
       "      <td>0.809905</td>\n",
       "      <td>-0.151678</td>\n",
       "      <td>-0.076946</td>\n",
       "    </tr>\n",
       "    <tr>\n",
       "      <th>sample82</th>\n",
       "      <td>-0.478904</td>\n",
       "      <td>1.243808</td>\n",
       "      <td>-0.099846</td>\n",
       "      <td>0.023422</td>\n",
       "    </tr>\n",
       "    <tr>\n",
       "      <th>sample103</th>\n",
       "      <td>1.827015</td>\n",
       "      <td>0.258662</td>\n",
       "      <td>0.008375</td>\n",
       "      <td>-0.105617</td>\n",
       "    </tr>\n",
       "    <tr>\n",
       "      <th>sample106</th>\n",
       "      <td>2.269803</td>\n",
       "      <td>0.274822</td>\n",
       "      <td>-0.308615</td>\n",
       "      <td>-0.031019</td>\n",
       "    </tr>\n",
       "    <tr>\n",
       "      <th>sample108</th>\n",
       "      <td>1.807696</td>\n",
       "      <td>0.428916</td>\n",
       "      <td>-0.407658</td>\n",
       "      <td>0.083007</td>\n",
       "    </tr>\n",
       "    <tr>\n",
       "      <th>sample110</th>\n",
       "      <td>2.355391</td>\n",
       "      <td>-0.875887</td>\n",
       "      <td>0.470080</td>\n",
       "      <td>-0.094841</td>\n",
       "    </tr>\n",
       "    <tr>\n",
       "      <th>sample118</th>\n",
       "      <td>2.616677</td>\n",
       "      <td>-1.316142</td>\n",
       "      <td>-0.036932</td>\n",
       "      <td>0.134046</td>\n",
       "    </tr>\n",
       "  </tbody>\n",
       "</table>\n",
       "</div>"
      ],
      "text/plain": [
       "                PC1       PC2       PC3       PC4\n",
       "sample1   -1.579951 -1.243078 -0.137584 -0.036992\n",
       "sample2   -1.805797 -0.222862 -0.173852 -0.092413\n",
       "sample3   -1.883085 -0.616435  0.010442 -0.000584\n",
       "sample4   -1.903255 -0.391414  0.033711  0.087764\n",
       "sample5   -1.604839 -1.435830 -0.046761  0.028004\n",
       "sample60  -0.226151  0.743972  0.507239  0.108769\n",
       "sample61  -0.884744  2.071264  0.079389  0.033688\n",
       "sample65  -0.126315  0.270299  0.253691 -0.060287\n",
       "sample80  -0.383541  0.809905 -0.151678 -0.076946\n",
       "sample82  -0.478904  1.243808 -0.099846  0.023422\n",
       "sample103  1.827015  0.258662  0.008375 -0.105617\n",
       "sample106  2.269803  0.274822 -0.308615 -0.031019\n",
       "sample108  1.807696  0.428916 -0.407658  0.083007\n",
       "sample110  2.355391 -0.875887  0.470080 -0.094841\n",
       "sample118  2.616677 -1.316142 -0.036932  0.134046"
      ]
     },
     "execution_count": 28,
     "metadata": {},
     "output_type": "execute_result"
    }
   ],
   "source": [
    "score"
   ]
  },
  {
   "cell_type": "code",
   "execution_count": 31,
   "id": "0205d416-cbbd-4a46-9269-da5295e20624",
   "metadata": {},
   "outputs": [
    {
     "data": {
      "text/plain": [
       "array([0.72999987, 0.25241467, 0.01602412, 0.00156135])"
      ]
     },
     "execution_count": 31,
     "metadata": {},
     "output_type": "execute_result"
    }
   ],
   "source": [
    "pca.explained_variance_ratio_"
   ]
  },
  {
   "cell_type": "code",
   "execution_count": 33,
   "id": "6e8ffba1-f069-4fd9-9de5-24201359dc5e",
   "metadata": {},
   "outputs": [],
   "source": [
    "contribution_ratios = pd.DataFrame(pca.explained_variance_ratio_)"
   ]
  },
  {
   "cell_type": "code",
   "execution_count": 34,
   "id": "371483be-f9ef-4bf5-ab95-75f0374d36e7",
   "metadata": {},
   "outputs": [],
   "source": [
    "cumulative_contribution_ratios = contribution_ratios.cumsum() # cumsum() で寄与率の累積和を計算"
   ]
  },
  {
   "cell_type": "code",
   "execution_count": 35,
   "id": "13a7d2d3-621b-4916-9813-01b6b85b1664",
   "metadata": {},
   "outputs": [],
   "source": [
    "x_axis = range(1,contribution_ratios.shape[0]+1)"
   ]
  },
  {
   "cell_type": "code",
   "execution_count": 36,
   "id": "2af8ffc8-ff93-46b8-83c0-2b95eb5f3959",
   "metadata": {},
   "outputs": [
    {
     "data": {
      "text/plain": [
       "[<matplotlib.lines.Line2D at 0x7fbb71dc0a00>]"
      ]
     },
     "execution_count": 36,
     "metadata": {},
     "output_type": "execute_result"
    },
    {
     "data": {
      "image/png": "[encoded data removed]",
      "text/plain": [
       "<Figure size 432x288 with 1 Axes>"
      ]
     },
     "metadata": {
      "needs_background": "light"
     },
     "output_type": "display_data"
    }
   ],
   "source": [
    "plt.rcParams['font.size']=18\n",
    "plt.bar(x_axis,contribution_ratios.iloc[:,0],align='center')\n",
    "plt.plot(x_axis,cumulative_contribution_ratios.iloc[:,0],'r.-')"
   ]
  },
  {
   "cell_type": "code",
   "execution_count": 37,
   "id": "cb835b76-58ad-41c7-a59a-9fc480355caf",
   "metadata": {},
   "outputs": [
    {
     "data": {
      "text/html": [
       "<div>\n",
       "<style scoped>\n",
       "    .dataframe tbody tr th:only-of-type {\n",
       "        vertical-align: middle;\n",
       "    }\n",
       "\n",
       "    .dataframe tbody tr th {\n",
       "        vertical-align: top;\n",
       "    }\n",
       "\n",
       "    .dataframe thead th {\n",
       "        text-align: right;\n",
       "    }\n",
       "</style>\n",
       "<table border=\"1\" class=\"dataframe\">\n",
       "  <thead>\n",
       "    <tr style=\"text-align: right;\">\n",
       "      <th></th>\n",
       "      <th>0</th>\n",
       "    </tr>\n",
       "  </thead>\n",
       "  <tbody>\n",
       "    <tr>\n",
       "      <th>0</th>\n",
       "      <td>0.730000</td>\n",
       "    </tr>\n",
       "    <tr>\n",
       "      <th>1</th>\n",
       "      <td>0.252415</td>\n",
       "    </tr>\n",
       "    <tr>\n",
       "      <th>2</th>\n",
       "      <td>0.016024</td>\n",
       "    </tr>\n",
       "    <tr>\n",
       "      <th>3</th>\n",
       "      <td>0.001561</td>\n",
       "    </tr>\n",
       "  </tbody>\n",
       "</table>\n",
       "</div>"
      ],
      "text/plain": [
       "          0\n",
       "0  0.730000\n",
       "1  0.252415\n",
       "2  0.016024\n",
       "3  0.001561"
      ]
     },
     "execution_count": 37,
     "metadata": {},
     "output_type": "execute_result"
    }
   ],
   "source": [
    "contribution_ratios"
   ]
  },
  {
   "cell_type": "code",
   "execution_count": 38,
   "id": "ccd1d65a-39dd-41f3-b0b7-c2ed4e95033d",
   "metadata": {},
   "outputs": [],
   "source": [
    "cluster_numbers = fcluster(clustering_results,3)"
   ]
  },
  {
   "cell_type": "code",
   "execution_count": 39,
   "id": "baefb66e-94a3-4cf9-95f7-0e6f9b644dcb",
   "metadata": {},
   "outputs": [],
   "source": [
    "cluster_numbers = pd.DataFrame(cluster_numbers)"
   ]
  },
  {
   "cell_type": "code",
   "execution_count": 40,
   "id": "04a22ee2-eb1c-46c8-a903-d8832b26effa",
   "metadata": {},
   "outputs": [
    {
     "data": {
      "text/html": [
       "<div>\n",
       "<style scoped>\n",
       "    .dataframe tbody tr th:only-of-type {\n",
       "        vertical-align: middle;\n",
       "    }\n",
       "\n",
       "    .dataframe tbody tr th {\n",
       "        vertical-align: top;\n",
       "    }\n",
       "\n",
       "    .dataframe thead th {\n",
       "        text-align: right;\n",
       "    }\n",
       "</style>\n",
       "<table border=\"1\" class=\"dataframe\">\n",
       "  <thead>\n",
       "    <tr style=\"text-align: right;\">\n",
       "      <th></th>\n",
       "      <th>0</th>\n",
       "    </tr>\n",
       "  </thead>\n",
       "  <tbody>\n",
       "    <tr>\n",
       "      <th>0</th>\n",
       "      <td>1</td>\n",
       "    </tr>\n",
       "    <tr>\n",
       "      <th>1</th>\n",
       "      <td>1</td>\n",
       "    </tr>\n",
       "    <tr>\n",
       "      <th>2</th>\n",
       "      <td>1</td>\n",
       "    </tr>\n",
       "    <tr>\n",
       "      <th>3</th>\n",
       "      <td>1</td>\n",
       "    </tr>\n",
       "    <tr>\n",
       "      <th>4</th>\n",
       "      <td>1</td>\n",
       "    </tr>\n",
       "    <tr>\n",
       "      <th>5</th>\n",
       "      <td>1</td>\n",
       "    </tr>\n",
       "    <tr>\n",
       "      <th>6</th>\n",
       "      <td>1</td>\n",
       "    </tr>\n",
       "    <tr>\n",
       "      <th>7</th>\n",
       "      <td>1</td>\n",
       "    </tr>\n",
       "    <tr>\n",
       "      <th>8</th>\n",
       "      <td>1</td>\n",
       "    </tr>\n",
       "    <tr>\n",
       "      <th>9</th>\n",
       "      <td>1</td>\n",
       "    </tr>\n",
       "    <tr>\n",
       "      <th>10</th>\n",
       "      <td>1</td>\n",
       "    </tr>\n",
       "    <tr>\n",
       "      <th>11</th>\n",
       "      <td>1</td>\n",
       "    </tr>\n",
       "    <tr>\n",
       "      <th>12</th>\n",
       "      <td>1</td>\n",
       "    </tr>\n",
       "    <tr>\n",
       "      <th>13</th>\n",
       "      <td>1</td>\n",
       "    </tr>\n",
       "    <tr>\n",
       "      <th>14</th>\n",
       "      <td>1</td>\n",
       "    </tr>\n",
       "  </tbody>\n",
       "</table>\n",
       "</div>"
      ],
      "text/plain": [
       "    0\n",
       "0   1\n",
       "1   1\n",
       "2   1\n",
       "3   1\n",
       "4   1\n",
       "5   1\n",
       "6   1\n",
       "7   1\n",
       "8   1\n",
       "9   1\n",
       "10  1\n",
       "11  1\n",
       "12  1\n",
       "13  1\n",
       "14  1"
      ]
     },
     "execution_count": 40,
     "metadata": {},
     "output_type": "execute_result"
    }
   ],
   "source": [
    "cluster_numbers"
   ]
  },
  {
   "cell_type": "code",
   "execution_count": 41,
   "id": "4d5253e2-5b73-46a1-be57-4e9f1f9f0c08",
   "metadata": {},
   "outputs": [],
   "source": [
    "cluster_numbers.index = x.index"
   ]
  },
  {
   "cell_type": "code",
   "execution_count": 43,
   "id": "f839fc53-ce70-4402-bdab-46eaffc72cdc",
   "metadata": {},
   "outputs": [],
   "source": [
    "cluster_numbers = fcluster(clustering_results, 3, criterion='maxclust') # クラスターの数で分割し、クラスター番号を出力"
   ]
  },
  {
   "cell_type": "code",
   "execution_count": 44,
   "id": "51379d48-c3f1-4b23-9a25-b55c36c74a14",
   "metadata": {},
   "outputs": [
    {
     "data": {
      "text/plain": [
       "array([2, 2, 2, 2, 2, 3, 3, 3, 3, 3, 1, 1, 1, 1, 1], dtype=int32)"
      ]
     },
     "execution_count": 44,
     "metadata": {},
     "output_type": "execute_result"
    }
   ],
   "source": [
    "cluster_numbers"
   ]
  },
  {
   "cell_type": "code",
   "execution_count": 49,
   "id": "ec39a45c-bb38-4f5a-8e25-5beb8e4fb528",
   "metadata": {},
   "outputs": [
    {
     "data": {
      "text/plain": [
       "<matplotlib.collections.PathCollection at 0x7fbb71ed2760>"
      ]
     },
     "execution_count": 49,
     "metadata": {},
     "output_type": "execute_result"
    },
    {
     "data": {
      "image/png": "[encoded data removed]",
      "text/plain": [
       "<Figure size 432x288 with 1 Axes>"
      ]
     },
     "metadata": {
      "needs_background": "light"
     },
     "output_type": "display_data"
    }
   ],
   "source": [
    "\n",
    "plt.scatter(score.iloc[:, 3], score.iloc[:, 1],  c=pd.DataFrame(cluster_numbers).iloc[:, 0], cmap=plt.get_cmap('jet')) # 散布図の作成。クラスター番号ごとにプロットの色を変えています"
   ]
  },
  {
   "cell_type": "code",
   "execution_count": 50,
   "id": "b1859231-a3de-4670-9d55-f56e29747683",
   "metadata": {},
   "outputs": [],
   "source": [
    "dataset = pd.read_csv('virtual_equipment.csv', index_col=0) # 仮想的な装置のデータセットの読み込み"
   ]
  },
  {
   "cell_type": "code",
   "execution_count": 51,
   "id": "8f428d3f-fe82-498f-9489-145b5d6887b0",
   "metadata": {},
   "outputs": [],
   "source": [
    "x = dataset.iloc[:,0:2]"
   ]
  },
  {
   "cell_type": "code",
   "execution_count": 52,
   "id": "ce9d3a7a-d88e-44c9-8098-f48dd6fbc231",
   "metadata": {},
   "outputs": [
    {
     "data": {
      "text/html": [
       "<div>\n",
       "<style scoped>\n",
       "    .dataframe tbody tr th:only-of-type {\n",
       "        vertical-align: middle;\n",
       "    }\n",
       "\n",
       "    .dataframe tbody tr th {\n",
       "        vertical-align: top;\n",
       "    }\n",
       "\n",
       "    .dataframe thead th {\n",
       "        text-align: right;\n",
       "    }\n",
       "</style>\n",
       "<table border=\"1\" class=\"dataframe\">\n",
       "  <thead>\n",
       "    <tr style=\"text-align: right;\">\n",
       "      <th></th>\n",
       "      <th>T1</th>\n",
       "      <th>T2</th>\n",
       "    </tr>\n",
       "  </thead>\n",
       "  <tbody>\n",
       "    <tr>\n",
       "      <th>0</th>\n",
       "      <td>50.0</td>\n",
       "      <td>70.0</td>\n",
       "    </tr>\n",
       "    <tr>\n",
       "      <th>1</th>\n",
       "      <td>51.1</td>\n",
       "      <td>71.1</td>\n",
       "    </tr>\n",
       "    <tr>\n",
       "      <th>2</th>\n",
       "      <td>50.4</td>\n",
       "      <td>70.3</td>\n",
       "    </tr>\n",
       "    <tr>\n",
       "      <th>3</th>\n",
       "      <td>51.6</td>\n",
       "      <td>71.4</td>\n",
       "    </tr>\n",
       "    <tr>\n",
       "      <th>4</th>\n",
       "      <td>50.3</td>\n",
       "      <td>70.1</td>\n",
       "    </tr>\n",
       "    <tr>\n",
       "      <th>...</th>\n",
       "      <td>...</td>\n",
       "      <td>...</td>\n",
       "    </tr>\n",
       "    <tr>\n",
       "      <th>95</th>\n",
       "      <td>50.3</td>\n",
       "      <td>70.6</td>\n",
       "    </tr>\n",
       "    <tr>\n",
       "      <th>96</th>\n",
       "      <td>51.7</td>\n",
       "      <td>71.9</td>\n",
       "    </tr>\n",
       "    <tr>\n",
       "      <th>97</th>\n",
       "      <td>50.4</td>\n",
       "      <td>70.7</td>\n",
       "    </tr>\n",
       "    <tr>\n",
       "      <th>98</th>\n",
       "      <td>50.3</td>\n",
       "      <td>70.0</td>\n",
       "    </tr>\n",
       "    <tr>\n",
       "      <th>99</th>\n",
       "      <td>49.3</td>\n",
       "      <td>69.0</td>\n",
       "    </tr>\n",
       "  </tbody>\n",
       "</table>\n",
       "<p>100 rows × 2 columns</p>\n",
       "</div>"
      ],
      "text/plain": [
       "      T1    T2\n",
       "0   50.0  70.0\n",
       "1   51.1  71.1\n",
       "2   50.4  70.3\n",
       "3   51.6  71.4\n",
       "4   50.3  70.1\n",
       "..   ...   ...\n",
       "95  50.3  70.6\n",
       "96  51.7  71.9\n",
       "97  50.4  70.7\n",
       "98  50.3  70.0\n",
       "99  49.3  69.0\n",
       "\n",
       "[100 rows x 2 columns]"
      ]
     },
     "execution_count": 52,
     "metadata": {},
     "output_type": "execute_result"
    }
   ],
   "source": [
    "x"
   ]
  },
  {
   "cell_type": "code",
   "execution_count": null,
   "id": "1eee6cdc-2fee-4ffc-a24d-ae06a114f319",
   "metadata": {},
   "outputs": [],
   "source": []
  }
 ],
 "metadata": {
  "kernelspec": {
   "display_name": "Python 3",
   "language": "python",
   "name": "python3"
  },
  "language_info": {
   "codemirror_mode": {
    "name": "ipython",
    "version": 3
   },
   "file_extension": ".py",
   "mimetype": "text/x-python",
   "name": "python",
   "nbconvert_exporter": "python",
   "pygments_lexer": "ipython3",
   "version": "3.8.2"
  }
 },
 "nbformat": 4,
 "nbformat_minor": 5
}
